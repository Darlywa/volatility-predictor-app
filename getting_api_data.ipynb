{
 "cells": [
  {
   "cell_type": "code",
   "execution_count": 3,
   "metadata": {},
   "outputs": [],
   "source": [
    "import pandas as pd\n",
    "import requests\n",
    "from config import settings"
   ]
  },
  {
   "cell_type": "code",
   "execution_count": 19,
   "metadata": {},
   "outputs": [
    {
     "name": "stdout",
     "output_type": "stream",
     "text": [
      "['Config', '__abstractmethods__', '__annotations__', '__class__', '__class_vars__', '__config__', '__custom_root_type__', '__delattr__', '__dict__', '__dir__', '__doc__', '__eq__', '__exclude_fields__', '__fields__', '__fields_set__', '__format__', '__ge__', '__get_validators__', '__getattribute__', '__getstate__', '__gt__', '__hash__', '__include_fields__', '__init__', '__init_subclass__', '__iter__', '__json_encoder__', '__le__', '__lt__', '__module__', '__ne__', '__new__', '__post_root_validators__', '__pre_root_validators__', '__pretty__', '__private_attributes__', '__reduce__', '__reduce_ex__', '__repr__', '__repr_args__', '__repr_name__', '__repr_str__', '__rich_repr__', '__schema_cache__', '__setattr__', '__setstate__', '__signature__', '__sizeof__', '__slots__', '__str__', '__subclasshook__', '__try_update_forward_refs__', '__validators__', '_abc_impl', '_build_values', '_calculate_keys', '_copy_and_set_values', '_decompose_class', '_enforce_dict_if_root', '_get_value', '_init_private_attributes', '_iter', 'alpha_api_key', 'construct', 'copy', 'db_name', 'dict', 'from_orm', 'json', 'model_directory', 'parse_file', 'parse_obj', 'parse_raw', 'schema', 'schema_json', 'update_forward_refs', 'validate']\n"
     ]
    }
   ],
   "source": [
    "print(dir(settings))"
   ]
  },
  {
   "cell_type": "code",
   "execution_count": 20,
   "metadata": {},
   "outputs": [
    {
     "data": {
      "text/plain": [
       "'stocks.sqlite'"
      ]
     },
     "execution_count": 20,
     "metadata": {},
     "output_type": "execute_result"
    }
   ],
   "source": [
    "settings.db_name"
   ]
  },
  {
   "cell_type": "code",
   "execution_count": 21,
   "metadata": {},
   "outputs": [
    {
     "data": {
      "text/plain": [
       "'FQRMMQ7N7O6RSMY3'"
      ]
     },
     "execution_count": 21,
     "metadata": {},
     "output_type": "execute_result"
    }
   ],
   "source": [
    "settings.alpha_api_key"
   ]
  },
  {
   "cell_type": "code",
   "execution_count": 22,
   "metadata": {},
   "outputs": [
    {
     "data": {
      "text/plain": [
       "'models'"
      ]
     },
     "execution_count": 22,
     "metadata": {},
     "output_type": "execute_result"
    }
   ],
   "source": [
    "settings.model_directory"
   ]
  },
  {
   "cell_type": "code",
   "execution_count": 4,
   "metadata": {},
   "outputs": [
    {
     "name": "stdout",
     "output_type": "stream",
     "text": [
      "https://www.alphavantage.co/query?function=TIME_SERIES_DAILY_ADJUSTED&symbol=XLRE&datatype=json&outputsize=compact&apikey=FQRMMQ7N7O6RSMY3\n"
     ]
    }
   ],
   "source": [
    "#Build the api url XLK S&P Technology Select Sector\n",
    "ticker = \"XLRE\"\n",
    "outputsize = \"compact\"\n",
    "datatype = \"json\"\n",
    "\n",
    "url = (\"https://www.alphavantage.co/query?\"\n",
    "        \"function=TIME_SERIES_DAILY_ADJUSTED&\"\n",
    "        f\"symbol={ticker}&\"\n",
    "        f\"datatype={datatype}&\"\n",
    "        f\"outputsize={outputsize}&\"\n",
    "        f\"apikey={settings.alpha_api_key}\"\n",
    "        )\n",
    "print(url)"
   ]
  },
  {
   "cell_type": "code",
   "execution_count": 5,
   "metadata": {},
   "outputs": [
    {
     "name": "stdout",
     "output_type": "stream",
     "text": [
      "Response type: <class 'requests.models.Response'>\n"
     ]
    }
   ],
   "source": [
    "response = requests.get(url=url)\n",
    "print(\"Response type:\", type(response))"
   ]
  },
  {
   "cell_type": "code",
   "execution_count": 6,
   "metadata": {},
   "outputs": [
    {
     "data": {
      "text/plain": [
       "dict_keys(['Meta Data', 'Time Series (Daily)'])"
      ]
     },
     "execution_count": 6,
     "metadata": {},
     "output_type": "execute_result"
    }
   ],
   "source": [
    "response_data = response.json()\n",
    "response_data.keys()"
   ]
  },
  {
   "cell_type": "code",
   "execution_count": 7,
   "metadata": {},
   "outputs": [],
   "source": [
    "stock_data = response_data[\"Time Series (Daily)\"]"
   ]
  },
  {
   "cell_type": "code",
   "execution_count": 9,
   "metadata": {},
   "outputs": [
    {
     "data": {
      "text/plain": [
       "[('2023-01-04',\n",
       "  {'1. open': '37.4',\n",
       "   '2. high': '38.26',\n",
       "   '3. low': '37.27',\n",
       "   '4. close': '37.92',\n",
       "   '5. adjusted close': '37.92',\n",
       "   '6. volume': '7586940',\n",
       "   '7. dividend amount': '0.0000',\n",
       "   '8. split coefficient': '1.0'}),\n",
       " ('2023-01-03',\n",
       "  {'1. open': '37.23',\n",
       "   '2. high': '37.56',\n",
       "   '3. low': '36.61',\n",
       "   '4. close': '37.07',\n",
       "   '5. adjusted close': '37.07',\n",
       "   '6. volume': '7060342',\n",
       "   '7. dividend amount': '0.0000',\n",
       "   '8. split coefficient': '1.0'}),\n",
       " ('2022-12-30',\n",
       "  {'1. open': '37.04',\n",
       "   '2. high': '37.18',\n",
       "   '3. low': '36.53',\n",
       "   '4. close': '36.93',\n",
       "   '5. adjusted close': '36.93',\n",
       "   '6. volume': '5087853',\n",
       "   '7. dividend amount': '0.0000',\n",
       "   '8. split coefficient': '1.0'})]"
      ]
     },
     "execution_count": 9,
     "metadata": {},
     "output_type": "execute_result"
    }
   ],
   "source": [
    "list(stock_data.items())[:3]"
   ]
  },
  {
   "cell_type": "code",
   "execution_count": 50,
   "metadata": {},
   "outputs": [
    {
     "data": {
      "text/plain": [
       "{'1. open': '37.4',\n",
       " '2. high': '38.26',\n",
       " '3. low': '37.27',\n",
       " '4. close': '37.92',\n",
       " '5. adjusted close': '37.92',\n",
       " '6. volume': '7586940',\n",
       " '7. dividend amount': '0.0000',\n",
       " '8. split coefficient': '1.0'}"
      ]
     },
     "execution_count": 50,
     "metadata": {},
     "output_type": "execute_result"
    }
   ],
   "source": [
    "stock_data[\"2023-01-04\"]"
   ]
  },
  {
   "cell_type": "code",
   "execution_count": 51,
   "metadata": {},
   "outputs": [],
   "source": [
    "df = pd.DataFrame.from_dict(stock_data, orient=\"index\", dtype=float)"
   ]
  },
  {
   "cell_type": "code",
   "execution_count": 52,
   "metadata": {},
   "outputs": [],
   "source": [
    "df.index = pd.to_datetime(df.index)\n",
    "df.index.name = \"date\""
   ]
  },
  {
   "cell_type": "code",
   "execution_count": null,
   "metadata": {},
   "outputs": [],
   "source": []
  },
  {
   "cell_type": "code",
   "execution_count": 53,
   "metadata": {},
   "outputs": [],
   "source": [
    "df.columns = [c.split(\". \")[1] for c in df.columns] \n"
   ]
  },
  {
   "cell_type": "code",
   "execution_count": 54,
   "metadata": {},
   "outputs": [
    {
     "data": {
      "text/html": [
       "<div>\n",
       "<style scoped>\n",
       "    .dataframe tbody tr th:only-of-type {\n",
       "        vertical-align: middle;\n",
       "    }\n",
       "\n",
       "    .dataframe tbody tr th {\n",
       "        vertical-align: top;\n",
       "    }\n",
       "\n",
       "    .dataframe thead th {\n",
       "        text-align: right;\n",
       "    }\n",
       "</style>\n",
       "<table border=\"1\" class=\"dataframe\">\n",
       "  <thead>\n",
       "    <tr style=\"text-align: right;\">\n",
       "      <th></th>\n",
       "      <th>open</th>\n",
       "      <th>high</th>\n",
       "      <th>low</th>\n",
       "      <th>close</th>\n",
       "      <th>adjusted close</th>\n",
       "      <th>volume</th>\n",
       "      <th>dividend amount</th>\n",
       "      <th>split coefficient</th>\n",
       "    </tr>\n",
       "    <tr>\n",
       "      <th>date</th>\n",
       "      <th></th>\n",
       "      <th></th>\n",
       "      <th></th>\n",
       "      <th></th>\n",
       "      <th></th>\n",
       "      <th></th>\n",
       "      <th></th>\n",
       "      <th></th>\n",
       "    </tr>\n",
       "  </thead>\n",
       "  <tbody>\n",
       "    <tr>\n",
       "      <th>2023-01-04</th>\n",
       "      <td>37.400</td>\n",
       "      <td>38.260</td>\n",
       "      <td>37.270</td>\n",
       "      <td>37.92</td>\n",
       "      <td>37.92</td>\n",
       "      <td>7586940.0</td>\n",
       "      <td>0.0</td>\n",
       "      <td>1.0</td>\n",
       "    </tr>\n",
       "    <tr>\n",
       "      <th>2023-01-03</th>\n",
       "      <td>37.230</td>\n",
       "      <td>37.560</td>\n",
       "      <td>36.610</td>\n",
       "      <td>37.07</td>\n",
       "      <td>37.07</td>\n",
       "      <td>7060342.0</td>\n",
       "      <td>0.0</td>\n",
       "      <td>1.0</td>\n",
       "    </tr>\n",
       "    <tr>\n",
       "      <th>2022-12-30</th>\n",
       "      <td>37.040</td>\n",
       "      <td>37.180</td>\n",
       "      <td>36.530</td>\n",
       "      <td>36.93</td>\n",
       "      <td>36.93</td>\n",
       "      <td>5087853.0</td>\n",
       "      <td>0.0</td>\n",
       "      <td>1.0</td>\n",
       "    </tr>\n",
       "    <tr>\n",
       "      <th>2022-12-29</th>\n",
       "      <td>36.721</td>\n",
       "      <td>37.365</td>\n",
       "      <td>36.620</td>\n",
       "      <td>37.27</td>\n",
       "      <td>37.27</td>\n",
       "      <td>4143152.0</td>\n",
       "      <td>0.0</td>\n",
       "      <td>1.0</td>\n",
       "    </tr>\n",
       "    <tr>\n",
       "      <th>2022-12-28</th>\n",
       "      <td>37.140</td>\n",
       "      <td>37.340</td>\n",
       "      <td>36.425</td>\n",
       "      <td>36.46</td>\n",
       "      <td>36.46</td>\n",
       "      <td>4730881.0</td>\n",
       "      <td>0.0</td>\n",
       "      <td>1.0</td>\n",
       "    </tr>\n",
       "  </tbody>\n",
       "</table>\n",
       "</div>"
      ],
      "text/plain": [
       "              open    high     low  close  adjusted close     volume  \\\n",
       "date                                                                   \n",
       "2023-01-04  37.400  38.260  37.270  37.92           37.92  7586940.0   \n",
       "2023-01-03  37.230  37.560  36.610  37.07           37.07  7060342.0   \n",
       "2022-12-30  37.040  37.180  36.530  36.93           36.93  5087853.0   \n",
       "2022-12-29  36.721  37.365  36.620  37.27           37.27  4143152.0   \n",
       "2022-12-28  37.140  37.340  36.425  36.46           36.46  4730881.0   \n",
       "\n",
       "            dividend amount  split coefficient  \n",
       "date                                            \n",
       "2023-01-04              0.0                1.0  \n",
       "2023-01-03              0.0                1.0  \n",
       "2022-12-30              0.0                1.0  \n",
       "2022-12-29              0.0                1.0  \n",
       "2022-12-28              0.0                1.0  "
      ]
     },
     "execution_count": 54,
     "metadata": {},
     "output_type": "execute_result"
    }
   ],
   "source": [
    "df.head()"
   ]
  },
  {
   "cell_type": "code",
   "execution_count": 55,
   "metadata": {},
   "outputs": [],
   "source": [
    "df = df.drop([\"adjusted close\", \"volume\", \"dividend amount\", \"split coefficient\"], axis = 1)"
   ]
  },
  {
   "cell_type": "code",
   "execution_count": 56,
   "metadata": {},
   "outputs": [
    {
     "data": {
      "text/plain": [
       "pandas.core.frame.DataFrame"
      ]
     },
     "execution_count": 56,
     "metadata": {},
     "output_type": "execute_result"
    }
   ],
   "source": [
    "type(df)"
   ]
  },
  {
   "cell_type": "code",
   "execution_count": 57,
   "metadata": {},
   "outputs": [
    {
     "name": "stdout",
     "output_type": "stream",
     "text": [
      "<class 'pandas.core.frame.DataFrame'>\n",
      "DatetimeIndex: 100 entries, 2023-01-04 to 2022-08-12\n",
      "Data columns (total 4 columns):\n",
      " #   Column  Non-Null Count  Dtype  \n",
      "---  ------  --------------  -----  \n",
      " 0   open    100 non-null    float64\n",
      " 1   high    100 non-null    float64\n",
      " 2   low     100 non-null    float64\n",
      " 3   close   100 non-null    float64\n",
      "dtypes: float64(4)\n",
      "memory usage: 3.9 KB\n"
     ]
    }
   ],
   "source": [
    "df.info()"
   ]
  },
  {
   "cell_type": "code",
   "execution_count": 58,
   "metadata": {},
   "outputs": [],
   "source": [
    "def get_historical_data(ticker, output_size=\"full\"):\n",
    "    \"\"\"\n",
    "    A function that downloads the historical data from Alpha Vantage website using free API key.\n",
    "\n",
    "    Parameters required:\n",
    "    -------------------\n",
    "    Ticker - The stock symbol\n",
    "    Output_size  - The two options available are full or compact. The function is set to full by default.\n",
    "    \"\"\"\n",
    "\n",
    "    url = (\"https://www.alphavantage.co/query?\"\n",
    "            \"function=TIME_SERIES_DAILY_ADJUSTED&\"\n",
    "            f\"symbol={ticker}&\"\n",
    "            f\"outputsize={output_size}&\"\n",
    "            f\"apikey={settings.alpha_api_key}\"\n",
    "         )\n",
    "    response = requests.get(url=url) \n",
    "    #Convert the response to json\n",
    "    response_json = response.json()\n",
    "    #Extract the Daily Time series\n",
    "    data_dict = response_json[\"Time Series (Daily)\"]\n",
    "    #Convert the data dictionary into DataFrame\n",
    "    df = pd.DataFrame.from_dict(data_dict, orient = \"index\", dtype = float)\n",
    "    #Convert the index to datetime and set the name to date\n",
    "    df.index = pd.to_datetime(df.index)\n",
    "    df.index.name = \"date\"\n",
    "    #Clean the column names\n",
    "    df.columns = [c.split(\". \")[1] for c in df.columns] \n",
    "    #Drop the unwanted columns\n",
    "    df = df.drop([\"adjusted close\", \"volume\", \"dividend amount\", \"split coefficient\"], axis = 1)\n",
    "    return df"
   ]
  },
  {
   "cell_type": "code",
   "execution_count": 59,
   "metadata": {},
   "outputs": [
    {
     "name": "stdout",
     "output_type": "stream",
     "text": [
      "<class 'pandas.core.frame.DataFrame'>\n",
      "DatetimeIndex: 100 entries, 2023-01-04 to 2022-08-12\n",
      "Data columns (total 4 columns):\n",
      " #   Column  Non-Null Count  Dtype  \n",
      "---  ------  --------------  -----  \n",
      " 0   open    100 non-null    float64\n",
      " 1   high    100 non-null    float64\n",
      " 2   low     100 non-null    float64\n",
      " 3   close   100 non-null    float64\n",
      "dtypes: float64(4)\n",
      "memory usage: 3.9 KB\n",
      "None\n"
     ]
    },
    {
     "data": {
      "text/html": [
       "<div>\n",
       "<style scoped>\n",
       "    .dataframe tbody tr th:only-of-type {\n",
       "        vertical-align: middle;\n",
       "    }\n",
       "\n",
       "    .dataframe tbody tr th {\n",
       "        vertical-align: top;\n",
       "    }\n",
       "\n",
       "    .dataframe thead th {\n",
       "        text-align: right;\n",
       "    }\n",
       "</style>\n",
       "<table border=\"1\" class=\"dataframe\">\n",
       "  <thead>\n",
       "    <tr style=\"text-align: right;\">\n",
       "      <th></th>\n",
       "      <th>open</th>\n",
       "      <th>high</th>\n",
       "      <th>low</th>\n",
       "      <th>close</th>\n",
       "    </tr>\n",
       "    <tr>\n",
       "      <th>date</th>\n",
       "      <th></th>\n",
       "      <th></th>\n",
       "      <th></th>\n",
       "      <th></th>\n",
       "    </tr>\n",
       "  </thead>\n",
       "  <tbody>\n",
       "    <tr>\n",
       "      <th>2023-01-04</th>\n",
       "      <td>123.90</td>\n",
       "      <td>124.37</td>\n",
       "      <td>122.220</td>\n",
       "      <td>123.58</td>\n",
       "    </tr>\n",
       "    <tr>\n",
       "      <th>2023-01-03</th>\n",
       "      <td>125.77</td>\n",
       "      <td>126.60</td>\n",
       "      <td>122.380</td>\n",
       "      <td>123.26</td>\n",
       "    </tr>\n",
       "    <tr>\n",
       "      <th>2022-12-30</th>\n",
       "      <td>123.32</td>\n",
       "      <td>124.51</td>\n",
       "      <td>122.550</td>\n",
       "      <td>124.44</td>\n",
       "    </tr>\n",
       "    <tr>\n",
       "      <th>2022-12-29</th>\n",
       "      <td>122.62</td>\n",
       "      <td>125.03</td>\n",
       "      <td>122.605</td>\n",
       "      <td>124.61</td>\n",
       "    </tr>\n",
       "    <tr>\n",
       "      <th>2022-12-28</th>\n",
       "      <td>123.12</td>\n",
       "      <td>124.27</td>\n",
       "      <td>121.290</td>\n",
       "      <td>121.43</td>\n",
       "    </tr>\n",
       "  </tbody>\n",
       "</table>\n",
       "</div>"
      ],
      "text/plain": [
       "              open    high      low   close\n",
       "date                                       \n",
       "2023-01-04  123.90  124.37  122.220  123.58\n",
       "2023-01-03  125.77  126.60  122.380  123.26\n",
       "2022-12-30  123.32  124.51  122.550  124.44\n",
       "2022-12-29  122.62  125.03  122.605  124.61\n",
       "2022-12-28  123.12  124.27  121.290  121.43"
      ]
     },
     "execution_count": 59,
     "metadata": {},
     "output_type": "execute_result"
    }
   ],
   "source": [
    "xlk_data = get_historical_data(ticker=\"XLK\", output_size=\"compact\")\n",
    "\n",
    "print(xlk_data.info())\n",
    "xlk_data.head()"
   ]
  },
  {
   "cell_type": "code",
   "execution_count": 2,
   "metadata": {},
   "outputs": [
    {
     "name": "stdout",
     "output_type": "stream",
     "text": [
      "<class 'pandas.core.frame.DataFrame'>\n",
      "DatetimeIndex: 5832 entries, 2023-01-04 to 1999-11-01\n",
      "Data columns (total 4 columns):\n",
      " #   Column  Non-Null Count  Dtype  \n",
      "---  ------  --------------  -----  \n",
      " 0   open    5832 non-null   float64\n",
      " 1   high    5832 non-null   float64\n",
      " 2   low     5832 non-null   float64\n",
      " 3   close   5832 non-null   float64\n",
      "dtypes: float64(4)\n",
      "memory usage: 227.8 KB\n",
      "None\n"
     ]
    },
    {
     "data": {
      "text/html": [
       "<div>\n",
       "<style scoped>\n",
       "    .dataframe tbody tr th:only-of-type {\n",
       "        vertical-align: middle;\n",
       "    }\n",
       "\n",
       "    .dataframe tbody tr th {\n",
       "        vertical-align: top;\n",
       "    }\n",
       "\n",
       "    .dataframe thead th {\n",
       "        text-align: right;\n",
       "    }\n",
       "</style>\n",
       "<table border=\"1\" class=\"dataframe\">\n",
       "  <thead>\n",
       "    <tr style=\"text-align: right;\">\n",
       "      <th></th>\n",
       "      <th>open</th>\n",
       "      <th>high</th>\n",
       "      <th>low</th>\n",
       "      <th>close</th>\n",
       "    </tr>\n",
       "    <tr>\n",
       "      <th>date</th>\n",
       "      <th></th>\n",
       "      <th></th>\n",
       "      <th></th>\n",
       "      <th></th>\n",
       "    </tr>\n",
       "  </thead>\n",
       "  <tbody>\n",
       "    <tr>\n",
       "      <th>2023-01-04</th>\n",
       "      <td>123.90</td>\n",
       "      <td>124.37</td>\n",
       "      <td>122.220</td>\n",
       "      <td>123.58</td>\n",
       "    </tr>\n",
       "    <tr>\n",
       "      <th>2023-01-03</th>\n",
       "      <td>125.77</td>\n",
       "      <td>126.60</td>\n",
       "      <td>122.380</td>\n",
       "      <td>123.26</td>\n",
       "    </tr>\n",
       "    <tr>\n",
       "      <th>2022-12-30</th>\n",
       "      <td>123.32</td>\n",
       "      <td>124.51</td>\n",
       "      <td>122.550</td>\n",
       "      <td>124.44</td>\n",
       "    </tr>\n",
       "    <tr>\n",
       "      <th>2022-12-29</th>\n",
       "      <td>122.62</td>\n",
       "      <td>125.03</td>\n",
       "      <td>122.605</td>\n",
       "      <td>124.61</td>\n",
       "    </tr>\n",
       "    <tr>\n",
       "      <th>2022-12-28</th>\n",
       "      <td>123.12</td>\n",
       "      <td>124.27</td>\n",
       "      <td>121.290</td>\n",
       "      <td>121.43</td>\n",
       "    </tr>\n",
       "  </tbody>\n",
       "</table>\n",
       "</div>"
      ],
      "text/plain": [
       "              open    high      low   close\n",
       "date                                       \n",
       "2023-01-04  123.90  124.37  122.220  123.58\n",
       "2023-01-03  125.77  126.60  122.380  123.26\n",
       "2022-12-30  123.32  124.51  122.550  124.44\n",
       "2022-12-29  122.62  125.03  122.605  124.61\n",
       "2022-12-28  123.12  124.27  121.290  121.43"
      ]
     },
     "execution_count": 2,
     "metadata": {},
     "output_type": "execute_result"
    }
   ],
   "source": [
    "from data import AlphaVantageApi\n",
    "\n",
    "api = AlphaVantageApi()\n",
    "xlk_data = api.get_historical_data(ticker=\"XLK\")\n",
    "print(xlk_data.info())\n",
    "xlk_data.head()"
   ]
  },
  {
   "cell_type": "code",
   "execution_count": null,
   "metadata": {},
   "outputs": [],
   "source": []
  }
 ],
 "metadata": {
  "kernelspec": {
   "display_name": "py39",
   "language": "python",
   "name": "python3"
  },
  "language_info": {
   "codemirror_mode": {
    "name": "ipython",
    "version": 3
   },
   "file_extension": ".py",
   "mimetype": "text/x-python",
   "name": "python",
   "nbconvert_exporter": "python",
   "pygments_lexer": "ipython3",
   "version": "3.9.15"
  },
  "orig_nbformat": 4,
  "vscode": {
   "interpreter": {
    "hash": "461fadada92cfe03cd71825aec222228df1d4eb8b76a8ece30b31c61a98ab836"
   }
  }
 },
 "nbformat": 4,
 "nbformat_minor": 2
}
