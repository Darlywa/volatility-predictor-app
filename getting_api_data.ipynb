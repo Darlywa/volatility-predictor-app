{
 "cells": [
  {
   "cell_type": "code",
   "execution_count": 2,
   "metadata": {},
   "outputs": [],
   "source": [
    "import pandas as pd\n",
    "import requests\n",
    "import sqlite3\n",
    "from config import settings"
   ]
  },
  {
   "cell_type": "code",
   "execution_count": 3,
   "metadata": {},
   "outputs": [],
   "source": [
    "connection = sqlite3.connect(settings.db_name, check_same_thread = False)"
   ]
  },
  {
   "cell_type": "code",
   "execution_count": 58,
   "metadata": {},
   "outputs": [],
   "source": [
    "def get_historical_data(ticker, output_size=\"full\"):\n",
    "    \"\"\"\n",
    "    A function that downloads the historical data from Alpha Vantage website using free API key.\n",
    "\n",
    "    Parameters required:\n",
    "    -------------------\n",
    "    Ticker - The stock symbol\n",
    "    Output_size  - The two options available are full or compact. The function is set to full by default.\n",
    "    \"\"\"\n",
    "\n",
    "    url = (\"https://www.alphavantage.co/query?\"\n",
    "            \"function=TIME_SERIES_DAILY_ADJUSTED&\"\n",
    "            f\"symbol={ticker}&\"\n",
    "            f\"outputsize={output_size}&\"\n",
    "            f\"apikey={settings.alpha_api_key}\"\n",
    "         )\n",
    "    response = requests.get(url=url) \n",
    "    #Convert the response to json\n",
    "    response_json = response.json()\n",
    "    #Extract the Daily Time series\n",
    "    data_dict = response_json[\"Time Series (Daily)\"]\n",
    "    #Convert the data dictionary into DataFrame\n",
    "    df = pd.DataFrame.from_dict(data_dict, orient = \"index\", dtype = float)\n",
    "    #Convert the index to datetime and set the name to date\n",
    "    df.index = pd.to_datetime(df.index)\n",
    "    df.index.name = \"date\"\n",
    "    #Clean the column names\n",
    "    df.columns = [c.split(\". \")[1] for c in df.columns] \n",
    "    #Drop the unwanted columns\n",
    "    df = df.drop([\"adjusted close\", \"volume\", \"dividend amount\", \"split coefficient\"], axis = 1)\n",
    "    return df"
   ]
  },
  {
   "cell_type": "code",
   "execution_count": 6,
   "metadata": {},
   "outputs": [
    {
     "name": "stdout",
     "output_type": "stream",
     "text": [
      "<class 'pandas.core.frame.DataFrame'>\n",
      "DatetimeIndex: 100 entries, 2023-01-06 to 2022-08-16\n",
      "Data columns (total 4 columns):\n",
      " #   Column  Non-Null Count  Dtype  \n",
      "---  ------  --------------  -----  \n",
      " 0   open    100 non-null    float64\n",
      " 1   high    100 non-null    float64\n",
      " 2   low     100 non-null    float64\n",
      " 3   close   100 non-null    float64\n",
      "dtypes: float64(4)\n",
      "memory usage: 3.9 KB\n",
      "None\n"
     ]
    },
    {
     "data": {
      "text/html": [
       "<div>\n",
       "<style scoped>\n",
       "    .dataframe tbody tr th:only-of-type {\n",
       "        vertical-align: middle;\n",
       "    }\n",
       "\n",
       "    .dataframe tbody tr th {\n",
       "        vertical-align: top;\n",
       "    }\n",
       "\n",
       "    .dataframe thead th {\n",
       "        text-align: right;\n",
       "    }\n",
       "</style>\n",
       "<table border=\"1\" class=\"dataframe\">\n",
       "  <thead>\n",
       "    <tr style=\"text-align: right;\">\n",
       "      <th></th>\n",
       "      <th>open</th>\n",
       "      <th>high</th>\n",
       "      <th>low</th>\n",
       "      <th>close</th>\n",
       "    </tr>\n",
       "    <tr>\n",
       "      <th>date</th>\n",
       "      <th></th>\n",
       "      <th></th>\n",
       "      <th></th>\n",
       "      <th></th>\n",
       "    </tr>\n",
       "  </thead>\n",
       "  <tbody>\n",
       "    <tr>\n",
       "      <th>2023-01-06</th>\n",
       "      <td>122.25</td>\n",
       "      <td>125.29</td>\n",
       "      <td>120.81</td>\n",
       "      <td>124.73</td>\n",
       "    </tr>\n",
       "    <tr>\n",
       "      <th>2023-01-05</th>\n",
       "      <td>122.96</td>\n",
       "      <td>123.28</td>\n",
       "      <td>120.97</td>\n",
       "      <td>121.18</td>\n",
       "    </tr>\n",
       "    <tr>\n",
       "      <th>2023-01-04</th>\n",
       "      <td>123.90</td>\n",
       "      <td>124.37</td>\n",
       "      <td>122.22</td>\n",
       "      <td>123.58</td>\n",
       "    </tr>\n",
       "    <tr>\n",
       "      <th>2023-01-03</th>\n",
       "      <td>125.77</td>\n",
       "      <td>126.60</td>\n",
       "      <td>122.38</td>\n",
       "      <td>123.26</td>\n",
       "    </tr>\n",
       "    <tr>\n",
       "      <th>2022-12-30</th>\n",
       "      <td>123.32</td>\n",
       "      <td>124.51</td>\n",
       "      <td>122.55</td>\n",
       "      <td>124.44</td>\n",
       "    </tr>\n",
       "  </tbody>\n",
       "</table>\n",
       "</div>"
      ],
      "text/plain": [
       "              open    high     low   close\n",
       "date                                      \n",
       "2023-01-06  122.25  125.29  120.81  124.73\n",
       "2023-01-05  122.96  123.28  120.97  121.18\n",
       "2023-01-04  123.90  124.37  122.22  123.58\n",
       "2023-01-03  125.77  126.60  122.38  123.26\n",
       "2022-12-30  123.32  124.51  122.55  124.44"
      ]
     },
     "execution_count": 6,
     "metadata": {},
     "output_type": "execute_result"
    }
   ],
   "source": [
    "from data import AlphaVantageApi\n",
    "\n",
    "ticker = \"XLK\"\n",
    "api = AlphaVantageApi()\n",
    "xlk_data = api.get_historical_data(ticker=ticker, output_size=\"compact\")\n",
    "print(xlk_data.info())\n",
    "xlk_data.head()"
   ]
  },
  {
   "cell_type": "code",
   "execution_count": 7,
   "metadata": {},
   "outputs": [],
   "source": [
    "from data import SQLRepository\n",
    "\n",
    "Repo = SQLRepository(connection=connection)"
   ]
  },
  {
   "cell_type": "code",
   "execution_count": 8,
   "metadata": {},
   "outputs": [
    {
     "data": {
      "text/plain": [
       "{'Transaction successful': True, 'Number of records inserted': 100}"
      ]
     },
     "execution_count": 8,
     "metadata": {},
     "output_type": "execute_result"
    }
   ],
   "source": [
    "Repo.insert_table(table_name=ticker, records=xlk_data, if_exists = \"replace\")"
   ]
  },
  {
   "cell_type": "code",
   "execution_count": 9,
   "metadata": {},
   "outputs": [
    {
     "name": "stdout",
     "output_type": "stream",
     "text": [
      "              open    high     low   close\n",
      "date                                      \n",
      "2023-01-06  122.25  125.29  120.81  124.73\n",
      "2023-01-05  122.96  123.28  120.97  121.18\n",
      "2023-01-04  123.90  124.37  122.22  123.58\n",
      "2023-01-03  125.77  126.60  122.38  123.26\n",
      "2022-12-30  123.32  124.51  122.55  124.44\n"
     ]
    },
    {
     "data": {
      "text/plain": [
       "50"
      ]
     },
     "execution_count": 9,
     "metadata": {},
     "output_type": "execute_result"
    }
   ],
   "source": [
    "df = Repo.read_table(table_name=ticker, limit = 50)\n",
    "print(df.head())\n",
    "len(df)"
   ]
  },
  {
   "cell_type": "code",
   "execution_count": 3,
   "metadata": {},
   "outputs": [
    {
     "name": "stderr",
     "output_type": "stream",
     "text": [
      "<frozen importlib._bootstrap>:228: RuntimeWarning: scipy._lib.messagestream.MessageStream size changed, may indicate binary incompatibility. Expected 56 from C header, got 64 from PyObject\n"
     ]
    }
   ],
   "source": [
    "import arch"
   ]
  },
  {
   "cell_type": "code",
   "execution_count": 2,
   "metadata": {},
   "outputs": [],
   "source": [
    "import warnings\n",
    "\n",
    "warnings.filterwarnings(\"ignore\")"
   ]
  },
  {
   "cell_type": "code",
   "execution_count": null,
   "metadata": {},
   "outputs": [],
   "source": []
  }
 ],
 "metadata": {
  "kernelspec": {
   "display_name": "py39",
   "language": "python",
   "name": "python3"
  },
  "language_info": {
   "codemirror_mode": {
    "name": "ipython",
    "version": 3
   },
   "file_extension": ".py",
   "mimetype": "text/x-python",
   "name": "python",
   "nbconvert_exporter": "python",
   "pygments_lexer": "ipython3",
   "version": "3.9.15 (main, Nov 24 2022, 08:29:02) \n[Clang 14.0.6 ]"
  },
  "orig_nbformat": 4,
  "vscode": {
   "interpreter": {
    "hash": "461fadada92cfe03cd71825aec222228df1d4eb8b76a8ece30b31c61a98ab836"
   }
  }
 },
 "nbformat": 4,
 "nbformat_minor": 2
}
