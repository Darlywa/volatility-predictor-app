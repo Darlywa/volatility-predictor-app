{
 "cells": [
  {
   "cell_type": "code",
   "execution_count": 9,
   "metadata": {},
   "outputs": [
    {
     "name": "stdout",
     "output_type": "stream",
     "text": [
      "response code: 200\n"
     ]
    },
    {
     "data": {
      "text/plain": [
       "{'ticker': 'IBM',\n",
       " 'use_new_data': False,\n",
       " 'n_observations': 2000,\n",
       " 'p': 1,\n",
       " 'q': 1,\n",
       " 'success': 'True',\n",
       " 'message': \"Trained and saved 'models/2023-01-09T22:19:30.497246_IBM.pkl'\"}"
      ]
     },
     "execution_count": 9,
     "metadata": {},
     "output_type": "execute_result"
    }
   ],
   "source": [
    "# URL of `/fit` path\n",
    "import requests\n",
    "from config import settings\n",
    "\n",
    "url = \"http://localhost:8008/fit\"\n",
    "\n",
    "# Data to send to path\n",
    "json = {\n",
    "    \"ticker\": \"IBM\",\n",
    "    \"use_new_data\": False,\n",
    "    \"n_observations\":2000,\n",
    "    \"p\": 1,\n",
    "    \"q\":1\n",
    "}\n",
    "# Response of post request\n",
    "response = requests.post(url=url, json=json)\n",
    "# Inspect response\n",
    "print(\"response code:\", response.status_code)\n",
    "response.json()"
   ]
  },
  {
   "cell_type": "code",
   "execution_count": 10,
   "metadata": {},
   "outputs": [
    {
     "data": {
      "text/plain": [
       "{'ticker': 'IBM',\n",
       " 'n_days': 5,\n",
       " 'success': 'True',\n",
       " 'forecast': {'2023-01-09T00:00:00': 1.385592896537781,\n",
       "  '2023-01-10T00:00:00': 1.3986471664122133,\n",
       "  '2023-01-11T00:00:00': 1.410351477429033,\n",
       "  '2023-01-12T00:00:00': 1.4208556984451424,\n",
       "  '2023-01-13T00:00:00': 1.4302909625669196},\n",
       " 'message': ''}"
      ]
     },
     "execution_count": 10,
     "metadata": {},
     "output_type": "execute_result"
    }
   ],
   "source": [
    "# URL of `/predict` path\n",
    "url = \"http://localhost:8008/predict\"\n",
    "# Data to send to path\n",
    "json = {\"ticker\": \"IBM\", \"n_days\": 5}\n",
    "# Response of post request\n",
    "response = requests.post(url=url, json=json)\n",
    "# Response JSON to be submitted to grader\n",
    "response_json = response.json()\n",
    "# Inspect JSON\n",
    "response_json"
   ]
  },
  {
   "cell_type": "code",
   "execution_count": null,
   "metadata": {},
   "outputs": [],
   "source": []
  }
 ],
 "metadata": {
  "kernelspec": {
   "display_name": "py39",
   "language": "python",
   "name": "python3"
  },
  "language_info": {
   "codemirror_mode": {
    "name": "ipython",
    "version": 3
   },
   "file_extension": ".py",
   "mimetype": "text/x-python",
   "name": "python",
   "nbconvert_exporter": "python",
   "pygments_lexer": "ipython3",
   "version": "3.9.15 (main, Nov 24 2022, 08:29:02) \n[Clang 14.0.6 ]"
  },
  "orig_nbformat": 4,
  "vscode": {
   "interpreter": {
    "hash": "461fadada92cfe03cd71825aec222228df1d4eb8b76a8ece30b31c61a98ab836"
   }
  }
 },
 "nbformat": 4,
 "nbformat_minor": 2
}
