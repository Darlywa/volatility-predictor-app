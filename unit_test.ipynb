{
 "cells": [
  {
   "cell_type": "code",
   "execution_count": 1,
   "metadata": {},
   "outputs": [
    {
     "data": {
      "text/plain": [
       "'The unit test will validate each of the methods in the class repositories\\n    AlphaVantage:\\n    -------------\\n        get_historical data\\n\\n    SQLRepository:\\n    --------------\\n        insert_table\\n        read_table\\n\\n'"
      ]
     },
     "execution_count": 1,
     "metadata": {},
     "output_type": "execute_result"
    }
   ],
   "source": [
    "\"\"\"The unit test will validate each of the methods in the class repositories\n",
    "    AlphaVantage:\n",
    "    -------------\n",
    "        get_historical data\n",
    "\n",
    "    SQLRepository:\n",
    "    --------------\n",
    "        insert_table\n",
    "        read_table\n",
    "\n",
    "\"\"\""
   ]
  },
  {
   "cell_type": "code",
   "execution_count": 4,
   "metadata": {},
   "outputs": [
    {
     "name": "stdout",
     "output_type": "stream",
     "text": [
      "The autoreload extension is already loaded. To reload it, use:\n",
      "  %reload_ext autoreload\n"
     ]
    }
   ],
   "source": [
    "%load_ext autoreload\n",
    "%autoreload 2"
   ]
  },
  {
   "cell_type": "code",
   "execution_count": 12,
   "metadata": {},
   "outputs": [],
   "source": [
    "import sqlite3\n",
    "import pandas as pd\n",
    "from config import settings\n",
    "from data import AlphaVantageApi\n",
    "from data import SQLRepository"
   ]
  },
  {
   "cell_type": "code",
   "execution_count": 13,
   "metadata": {},
   "outputs": [],
   "source": [
    "ticker = \"IBM\""
   ]
  },
  {
   "cell_type": "code",
   "execution_count": 14,
   "metadata": {},
   "outputs": [],
   "source": [
    "api = AlphaVantageApi()\n",
    "ibm_data = api.get_historical_data(ticker=ticker, output_size=\"full\")"
   ]
  },
  {
   "cell_type": "code",
   "execution_count": 15,
   "metadata": {},
   "outputs": [],
   "source": [
    "#Inspect if the data passed the unit test\n",
    "\n",
    "#1. Does daily data returned a dataFrame?\n",
    "assert isinstance(ibm_data, pd.DataFrame)\n",
    "\n",
    "#2. Does the dataFrame has 4 columns?\n",
    "assert ibm_data.shape[1] == 4\n",
    "\n",
    "#3. Does the dataFrame index has a datetimeIndex?\n",
    "assert isinstance(ibm_data.index, pd.DatetimeIndex)\n",
    "\n",
    "#4. Is the index name \"date\"?\n",
    "assert ibm_data.index.name == \"date\"\n",
    "\n",
    "#5. Does the column has correct name?\n",
    "assert ibm_data.columns.to_list() == [\"open\", \"high\", \"low\", \"close\"]\n",
    "\n",
    "#6. Are columns correct data type?\n",
    "assert all(ibm_data.dtypes == float)"
   ]
  },
  {
   "cell_type": "code",
   "execution_count": 16,
   "metadata": {},
   "outputs": [],
   "source": [
    "connection = sqlite3.connect(settings.db_name, check_same_thread = False)"
   ]
  },
  {
   "cell_type": "code",
   "execution_count": 17,
   "metadata": {},
   "outputs": [],
   "source": [
    "repo = SQLRepository(connection = connection)\n",
    "\n",
    "#1. Does repo has connection attribute\n",
    "assert hasattr(repo, \"connection\")\n",
    "\n",
    "#2. Does the repo connection attribute an instance of sqlite connection\n",
    "assert isinstance(repo.connection, sqlite3.Connection)\n"
   ]
  },
  {
   "cell_type": "code",
   "execution_count": 18,
   "metadata": {},
   "outputs": [],
   "source": [
    "response = repo.insert_table(table_name=ticker, records=ibm_data, if_exists = \"replace\")\n",
    "\n",
    "#Did the method return a dict?\n",
    "assert isinstance(response, dict)\n",
    "\n",
    "#Are the keys of the dictionary correct?\n",
    "assert sorted(list(response.keys())) == [\"Number of records inserted\", \"Transaction successful\"]"
   ]
  },
  {
   "cell_type": "code",
   "execution_count": 19,
   "metadata": {},
   "outputs": [],
   "source": [
    "df_ibm = repo.read_table(table_name=ticker, limit = 50)\n",
    "\n",
    "#Does the data returned a DataFrame\n",
    "assert isinstance(df_ibm, pd.DataFrame)\n",
    "\n",
    "#Does the DataFrame has 4 columns and 50 rows?\n",
    "assert df_ibm.shape == (50, 4)\n",
    "\n",
    "#Are the columns name correct?\n",
    "assert df_ibm.columns.to_list() == [\"open\", \"high\", \"low\", \"close\"]\n",
    "\n",
    "#Does the index an instance of datetimeIndex\n",
    "assert isinstance(df_ibm.index, pd.DatetimeIndex)\n",
    "\n",
    "#Is the index name \"date\"\n",
    "assert df_ibm.index.name == \"date\"\n",
    "\n",
    "#Are the columns data type correct?\n",
    "assert all(df_ibm.dtypes == float)"
   ]
  },
  {
   "cell_type": "code",
   "execution_count": 20,
   "metadata": {},
   "outputs": [
    {
     "data": {
      "text/plain": [
       "{'2023-01-09T00:00:00': 1.3529702898849838,\n",
       " '2023-01-10T00:00:00': 1.3644020303791737,\n",
       " '2023-01-11T00:00:00': 1.3746162560683937,\n",
       " '2023-01-12T00:00:00': 1.3837508069621893,\n",
       " '2023-01-13T00:00:00': 1.3919262106309414}"
      ]
     },
     "execution_count": 20,
     "metadata": {},
     "output_type": "execute_result"
    }
   ],
   "source": [
    "from model import GarchModel\n",
    "garch_model = GarchModel(ticker=ticker, repo=repo, model_directory=settings.model_directory, use_new_data=False)\n",
    "data = garch_model.wrangle_data(n_observations=2500)\n",
    "model = garch_model.fit(p=1, q=1)\n",
    "prediction_formatted = garch_model.predict_volatility(horizon=5)\n",
    "\n",
    "# Is `prediction_formatted` a dictionary?\n",
    "assert isinstance(prediction_formatted, dict)\n",
    "\n",
    "# Are keys correct data type?\n",
    "assert all(isinstance(k, str) for k in prediction_formatted.keys())\n",
    "\n",
    "# Are values correct data type\n",
    "assert all(isinstance(v, float) for v in prediction_formatted.values())\n",
    "\n",
    "prediction_formatted"
   ]
  },
  {
   "cell_type": "code",
   "execution_count": null,
   "metadata": {},
   "outputs": [],
   "source": []
  }
 ],
 "metadata": {
  "kernelspec": {
   "display_name": "py39",
   "language": "python",
   "name": "python3"
  },
  "language_info": {
   "codemirror_mode": {
    "name": "ipython",
    "version": 3
   },
   "file_extension": ".py",
   "mimetype": "text/x-python",
   "name": "python",
   "nbconvert_exporter": "python",
   "pygments_lexer": "ipython3",
   "version": "3.9.15 (main, Nov 24 2022, 08:29:02) \n[Clang 14.0.6 ]"
  },
  "orig_nbformat": 4,
  "vscode": {
   "interpreter": {
    "hash": "461fadada92cfe03cd71825aec222228df1d4eb8b76a8ece30b31c61a98ab836"
   }
  }
 },
 "nbformat": 4,
 "nbformat_minor": 2
}
